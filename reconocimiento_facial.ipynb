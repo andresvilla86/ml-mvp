{
  "nbformat": 4,
  "nbformat_minor": 0,
  "metadata": {
    "colab": {
      "name": "reconocimiento_facial.ipynb",
      "provenance": [],
      "collapsed_sections": []
    },
    "kernelspec": {
      "name": "python3",
      "display_name": "Python 3"
    }
  },
  "cells": [
    {
      "cell_type": "markdown",
      "metadata": {
        "id": "GIkHF6h4r9WK"
      },
      "source": [
        "## Este ejercicio tiene como objetivo explicar la construccion de un modelo de Redes Neuronales Artificiales para reconocimiento facial usando Tensorflow y Keras"
      ]
    },
    {
      "cell_type": "code",
      "metadata": {
        "id": "WGItXcPKd-UO"
      },
      "source": [
        "#!pip install tensorflow==2.0.0"
      ],
      "execution_count": 1,
      "outputs": []
    },
    {
      "cell_type": "code",
      "metadata": {
        "id": "ZSSA6FkSeND2"
      },
      "source": [
        "import matplotlib.pyplot as plt\n",
        "import cv2\n",
        "import ipywidgets as widgets\n",
        "%matplotlib inline\n",
        "import tensorflow as tf\n",
        "tf.__version__\n",
        "from keras.models import Sequential\n",
        "from keras.layers import Activation, Dropout, Flatten, Dense, Conv2D, MaxPooling2D\n",
        "\n",
        "!unzip '/content/sample_data/face_data.zip'"
      ],
      "execution_count": null,
      "outputs": []
    },
    {
      "cell_type": "code",
      "metadata": {
        "id": "JG16UuaNeOCa"
      },
      "source": [
        "person1 = cv2.imread('/content/face_data/train/andres/andres.1.JPG')\n",
        "person1 = cv2.cvtColor(person1,cv2.COLOR_BGR2RGB)\n",
        "person1.shape"
      ],
      "execution_count": null,
      "outputs": []
    },
    {
      "cell_type": "code",
      "metadata": {
        "id": "NItnF7HKev_R"
      },
      "source": [
        "plt.imshow(person1)"
      ],
      "execution_count": null,
      "outputs": []
    },
    {
      "cell_type": "code",
      "metadata": {
        "id": "K8r11PISfCwR"
      },
      "source": [
        "from keras.preprocessing.image import ImageDataGenerator"
      ],
      "execution_count": 5,
      "outputs": []
    },
    {
      "cell_type": "code",
      "metadata": {
        "id": "AWccp5erfFZe"
      },
      "source": [
        "image_gen = ImageDataGenerator(rotation_range=20, # rotacion\n",
        "                               width_shift_range=0.1, # cambio del ancho de l imagen maximo 10%\n",
        "                               height_shift_range=0.1, # cambio del alto de l imagen maximo 10%\n",
        "                               rescale=1/255, # normalizar.\n",
        "                               shear_range=0.2, # Corte de la imagen maximo 20%\n",
        "                               zoom_range=0.2, # Zoom maximo 20%\n",
        "                               horizontal_flip=True, # Permitir rotacion horizontal\n",
        "                               fill_mode='nearest' # Llenar valores con pixel mas cercano\n",
        "                              )"
      ],
      "execution_count": 6,
      "outputs": []
    },
    {
      "cell_type": "code",
      "metadata": {
        "id": "wrzN3qehfIVp"
      },
      "source": [
        "plt.imshow(image_gen.random_transform(person1))"
      ],
      "execution_count": null,
      "outputs": []
    },
    {
      "cell_type": "code",
      "metadata": {
        "id": "ufitfbbIrLBV"
      },
      "source": [
        "image_gen.flow_from_directory('/content/face_data/train')"
      ],
      "execution_count": null,
      "outputs": []
    },
    {
      "cell_type": "code",
      "metadata": {
        "id": "F6ULSEZvse42"
      },
      "source": [
        "image_gen.flow_from_directory('/content/face_data/test')"
      ],
      "execution_count": null,
      "outputs": []
    },
    {
      "cell_type": "code",
      "metadata": {
        "id": "H3CpYkMysjwJ"
      },
      "source": [
        "# ancho, alto y RGB\n",
        "image_shape = (200,180,3)"
      ],
      "execution_count": 10,
      "outputs": []
    },
    {
      "cell_type": "code",
      "metadata": {
        "id": "V_KC65HOsuMQ"
      },
      "source": [
        "model = Sequential()\n",
        "\n",
        "#Notar que input es el image shape\n",
        "\n",
        "model.add(Conv2D(filters=32, kernel_size=(3,3),input_shape=image_shape, activation='relu',))\n",
        "model.add(MaxPooling2D(pool_size=(2, 2)))\n",
        "\n",
        "model.add(Conv2D(filters=64, kernel_size=(3,3), activation='relu',))\n",
        "model.add(MaxPooling2D(pool_size=(2, 2)))\n",
        "\n",
        "model.add(Conv2D(filters=132, kernel_size=(3,3), activation='relu',))\n",
        "model.add(MaxPooling2D(pool_size=(2, 2)))\n",
        "\n",
        "model.add(Flatten())\n",
        "\n",
        "model.add(Dense(128))\n",
        "model.add(Activation('relu'))\n",
        "\n",
        "model.add(Dropout(0.5))\n",
        "\n",
        "#Notar que la ultima capa tiene 4 salidas representando las categorias presentes\n",
        "\n",
        "model.add(Dense(4))\n",
        "model.add(Activation('softmax'))\n",
        "\n",
        "model.compile(loss='categorical_crossentropy',\n",
        "              optimizer='adam',\n",
        "              metrics=['accuracy'])"
      ],
      "execution_count": 11,
      "outputs": []
    },
    {
      "cell_type": "code",
      "metadata": {
        "id": "58WN1_t0swhc"
      },
      "source": [
        "model.summary()"
      ],
      "execution_count": null,
      "outputs": []
    },
    {
      "cell_type": "code",
      "metadata": {
        "id": "XcYf7NFDszl1"
      },
      "source": [
        "batch_size = 4\n",
        "train_image_gen = image_gen.flow_from_directory('/content/face_data/train',\n",
        "                                               target_size=image_shape[:2],\n",
        "                                               batch_size=batch_size,\n",
        "                                               class_mode='categorical')"
      ],
      "execution_count": null,
      "outputs": []
    },
    {
      "cell_type": "code",
      "metadata": {
        "id": "EvgGayD3s_dU"
      },
      "source": [
        "train_image_gen.classes"
      ],
      "execution_count": null,
      "outputs": []
    },
    {
      "cell_type": "code",
      "metadata": {
        "id": "Mawi3CC9tCnm"
      },
      "source": [
        "test_image_gen = image_gen.flow_from_directory('/content/face_data/test',\n",
        "                                               #to automatically resize the images\n",
        "                                               target_size=image_shape[:2],\n",
        "                                               batch_size=batch_size,\n",
        "                                               class_mode='categorical')"
      ],
      "execution_count": null,
      "outputs": []
    },
    {
      "cell_type": "code",
      "metadata": {
        "id": "pJolNSoatLCG"
      },
      "source": [
        "train_image_gen.class_indices"
      ],
      "execution_count": null,
      "outputs": []
    },
    {
      "cell_type": "code",
      "metadata": {
        "id": "9LIBYezBtNbk"
      },
      "source": [
        "import warnings\n",
        "warnings.filterwarnings('ignore')"
      ],
      "execution_count": 26,
      "outputs": []
    },
    {
      "cell_type": "code",
      "metadata": {
        "id": "Xh5MxaeBtPxU"
      },
      "source": [
        "%%time\n",
        "steps_per_epoch = len(train_image_gen)//batch_size\n",
        "\n",
        "results = model.fit_generator(train_image_gen,epochs=10,\n",
        "                              steps_per_epoch=10,\n",
        "                              validation_data=test_image_gen,\n",
        "                             validation_steps=12)"
      ],
      "execution_count": null,
      "outputs": []
    },
    {
      "cell_type": "code",
      "metadata": {
        "id": "jfkrXvzA38SB"
      },
      "source": [
        "results.history"
      ],
      "execution_count": null,
      "outputs": []
    },
    {
      "cell_type": "code",
      "metadata": {
        "id": "LF2MjXZN3-vm",
        "colab": {
          "base_uri": "https://localhost:8080/",
          "height": 284
        },
        "outputId": "58dcddd7-f85e-4851-bace-ab1721ca3a7b"
      },
      "source": [
        "plt.plot(results.history['loss'])"
      ],
      "execution_count": 29,
      "outputs": [
        {
          "output_type": "execute_result",
          "data": {
            "text/plain": [
              "[<matplotlib.lines.Line2D at 0x7f37ef740ad0>]"
            ]
          },
          "metadata": {
            "tags": []
          },
          "execution_count": 29
        },
        {
          "output_type": "display_data",
          "data": {
            "image/png": "[encoded data removed]",
            "text/plain": [
              "<Figure size 432x288 with 1 Axes>"
            ]
          },
          "metadata": {
            "tags": [],
            "needs_background": "light"
          }
        }
      ]
    },
    {
      "cell_type": "code",
      "metadata": {
        "id": "WrK9quKl4FS8"
      },
      "source": [
        "label_map = train_image_gen.class_indices\n",
        "label_map = dict(map(reversed, label_map.items()))\n",
        "label_map"
      ],
      "execution_count": null,
      "outputs": []
    },
    {
      "cell_type": "code",
      "metadata": {
        "id": "1zmTmxpp4JGx"
      },
      "source": [
        "import numpy as np\n",
        "from keras.preprocessing import image\n",
        "\n",
        "test_file = '/content/sample_data/demoimage.JPG'\n",
        "test_img = image.load_img(test_file, target_size=(200, 180))\n",
        "test_img = image.img_to_array(test_img)\n",
        "test_img = np.expand_dims(test_img, axis=0)\n",
        "test_img = test_img/255"
      ],
      "execution_count": 32,
      "outputs": []
    },
    {
      "cell_type": "code",
      "metadata": {
        "id": "dCFMg2j14SdO"
      },
      "source": [
        "model.predict_classes(test_img)"
      ],
      "execution_count": null,
      "outputs": []
    },
    {
      "cell_type": "code",
      "metadata": {
        "id": "oRrbjgxX4V4F"
      },
      "source": [
        "prediction_prob = model.predict(test_img)"
      ],
      "execution_count": 34,
      "outputs": []
    },
    {
      "cell_type": "code",
      "metadata": {
        "id": "_3Ru39yk4Zk8"
      },
      "source": [
        "print(f'Probabilidad de la imagen a pertenecer a esta clase: {prediction_prob} ')"
      ],
      "execution_count": null,
      "outputs": []
    },
    {
      "cell_type": "code",
      "metadata": {
        "id": "4Gp6UsTd4c1O"
      },
      "source": [
        "y_prob = model.predict(test_img)\n",
        "print(y_prob)\n",
        "label_map[y_prob.argmax(axis=-1)[0]]"
      ],
      "execution_count": null,
      "outputs": []
    },
    {
      "cell_type": "code",
      "metadata": {
        "id": "5Eu0tdagnFFP"
      },
      "source": [
        "# Salvamos el modelo\n",
        "model.save('./model.h5')"
      ],
      "execution_count": null,
      "outputs": []
    }
  ]
}